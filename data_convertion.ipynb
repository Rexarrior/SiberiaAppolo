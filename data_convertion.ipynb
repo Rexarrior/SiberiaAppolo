{
 "cells": [
  {
   "cell_type": "code",
   "execution_count": null,
   "metadata": {},
   "outputs": [],
   "source": [
    "import pandas as pd\n",
    "dir_hackathon = '.'\n",
    "dir_data_in = f'{dir_hackathon}/Data/In'\n",
    "dir_data_out = f'{dir_hackathon}/Data/Out'"
   ]
  },
  {
   "cell_type": "markdown",
   "metadata": {},
   "source": [
    "Загрузка данных. Колонки \"Коды ТН ВЭД ЕАЭС\", \"Технические регламенты\" и \"Группа продукции\" - категориальные. Нам нужно их обработать и превратить в численные. Применим два подхода - нумерацию и разбиение на много колонок."
   ]
  },
  {
   "cell_type": "code",
   "execution_count": null,
   "metadata": {},
   "outputs": [],
   "source": [
    "all_data_in = pd.read_excel(f'{dir_data_in}/dataset2.xlsx', header=0)\n",
    "all_data_in.columns = ['Номер продукции', 'Коды ТН ВЭД ЕАЭС', 'Технические регламенты', 'Группа продукции', 'Общее наименование продукции', \n",
    "                       'ИЛ', 'Заявитель', 'Адрес Заявителя', 'Изготовитель', 'Страна', 'Адрес изготовителя']\n",
    "\n",
    "all_data_in.head(2)"
   ]
  },
  {
   "cell_type": "markdown",
   "metadata": {},
   "source": [
    "Нам нужно обработать  колонки 'Коды ТН ВЭД ЕАЭС', 'Технические регламенты', 'Группа продукции как категориальные.  У нас есть категориальные данные двух видов. Группы продукции - самое простое, просто строка, обозначающее название группы. Обработаем штатными средствами. С двумя другими сложнее - там в каждой ячейке группы перечислены через разделитель, да ещё и с дубликатами. Их будем обрабатывать отдельно. "
   ]
  },
  {
   "cell_type": "markdown",
   "metadata": {},
   "source": [
    "Nan - это пустые строчки, где не заданы значения. Заменим на \"Not presented\". "
   ]
  },
  {
   "cell_type": "code",
   "execution_count": null,
   "metadata": {},
   "outputs": [],
   "source": [
    "all_data_in['Коды ТН ВЭД ЕАЭС'] = all_data_in['Коды ТН ВЭД ЕАЭС'].fillna(value=\"Not presented\") # почему-то inplace не работает\n",
    "all_data_in['Коды ТН ВЭД ЕАЭС'] = all_data_in['Коды ТН ВЭД ЕАЭС'].astype(str)\n",
    "all_data_in['Коды ТН ВЭД ЕАЭС'].tail(5) #там были NaN\n"
   ]
  },
  {
   "cell_type": "code",
   "execution_count": null,
   "metadata": {},
   "outputs": [],
   "source": [
    "#предобработка столбца с кодами ВЭД ЕАЭС чтобы убрать повторы\n",
    "def remove_replies_from_celll(cell, delimiter=\";\"):\n",
    "    splitted_cell = [s.strip() for s in cell.split(delimiter)]\n",
    "    unique_splitted_cell = list(set(splitted_cell))\n",
    "    result_cell = delimiter.join(unique_splitted_cell)\n",
    "    return result_cell\n",
    "\n",
    "all_data_in['Коды ТН ВЭД ЕАЭС'] = all_data_in['Коды ТН ВЭД ЕАЭС'].apply(lambda x: remove_replies_from_celll(x))\n",
    "all_data_in.head(5)\n"
   ]
  },
  {
   "cell_type": "code",
   "execution_count": null,
   "metadata": {},
   "outputs": [],
   "source": [
    "object_cols = ['Группа продукции', 'Технические регламенты', 'Коды ТН ВЭД ЕАЭС']\n",
    "object_cols_target = ['Группа продукции_ordinal', 'Технические регламенты_ordinal', 'Коды ТН ВЭД ЕАЭС_ordinal'] # В такую колонку положим результат простой нумерации\n",
    "all_data_in[object_cols]\n"
   ]
  },
  {
   "cell_type": "markdown",
   "metadata": {},
   "source": [
    "Посмотрим, сколько есть различных категорий"
   ]
  },
  {
   "cell_type": "code",
   "execution_count": null,
   "metadata": {},
   "outputs": [],
   "source": [
    "for col in object_cols:\n",
    "    count = len(all_data_in[col].value_counts())\n",
    "    print(f\"{col} : {count}\")"
   ]
  },
  {
   "cell_type": "markdown",
   "metadata": {},
   "source": [
    "Ordinal encoder. Нумеруем категории. \n"
   ]
  },
  {
   "cell_type": "code",
   "execution_count": null,
   "metadata": {},
   "outputs": [],
   "source": [
    "from sklearn.preprocessing import OrdinalEncoder\n",
    "ordinal_encoder = OrdinalEncoder()\n",
    "data_copy = all_data_in.copy()\n",
    "all_data_in[object_cols_target] = ordinal_encoder.fit_transform(data_copy[object_cols])\n",
    "all_data_in[object_cols + object_cols_target].head(10)"
   ]
  },
  {
   "cell_type": "markdown",
   "metadata": {},
   "source": [
    "Сохраним новый датасет"
   ]
  },
  {
   "cell_type": "code",
   "execution_count": null,
   "metadata": {},
   "outputs": [],
   "source": [
    "all_data_in.to_excel(f'{dir_data_out}/dateset_categorical.xlsx')"
   ]
  }
 ],
 "metadata": {
  "kernelspec": {
   "display_name": "Python 3.9.5 64-bit",
   "language": "python",
   "name": "python3"
  },
  "language_info": {
   "codemirror_mode": {
    "name": "ipython",
    "version": 3
   },
   "file_extension": ".py",
   "mimetype": "text/x-python",
   "name": "python",
   "nbconvert_exporter": "python",
   "pygments_lexer": "ipython3",
   "version": "3.9.5"
  },
  "orig_nbformat": 4,
  "vscode": {
   "interpreter": {
    "hash": "11938c6bc6919ae2720b4d5011047913343b08a43b18698fd82dedb0d4417594"
   }
  }
 },
 "nbformat": 4,
 "nbformat_minor": 2
}
