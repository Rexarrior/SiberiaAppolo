{
 "cells": [
  {
   "cell_type": "code",
   "execution_count": null,
   "metadata": {},
   "outputs": [],
   "source": [
    "import pandas as pd\n",
    "dir_hackathon = '.'\n",
    "dir_data_in = f'{dir_hackathon}/Data/In'\n",
    "dir_data_out = f'{dir_hackathon}/Data/Out'"
   ]
  },
  {
   "cell_type": "markdown",
   "metadata": {},
   "source": [
    "Загрузка данных. Колонки \"Коды ТН ВЭД ЕАЭС\", \"Технические регламенты\" и \"Группа продукции\" - категориальные. Нам нужно их обработать и превратить в численные. Применим два подхода - нумерацию и разбиение на много колонок."
   ]
  },
  {
   "cell_type": "code",
   "execution_count": null,
   "metadata": {},
   "outputs": [],
   "source": [
    "all_data_in = pd.read_excel(f'{dir_data_in}/dataset2.xlsx', header=0)\n",
    "all_data_in.columns = ['Номер продукции', 'Коды ТН ВЭД ЕАЭС', 'Технические регламенты', 'Группа продукции', 'Общее наименование продукции', \n",
    "                       'ИЛ', 'Заявитель', 'Адрес Заявителя', 'Изготовитель', 'Страна', 'Адрес изготовителя']\n",
    "\n",
    "all_data_in.head(2)"
   ]
  },
  {
   "cell_type": "markdown",
   "metadata": {},
   "source": [
    "Нам нужно обработать  колонки 'Коды ТН ВЭД ЕАЭС', 'Технические регламенты', 'Группа продукции как категориальные.  У нас есть категориальные данные двух видов. Группы продукции - самое простое, просто строка, обозначающее название группы. Обработаем штатными средствами. С двумя другими сложнее - там в каждой ячейке группы перечислены через разделитель, да ещё и с дубликатами. Их будем обрабатывать отдельно. "
   ]
  },
  {
   "cell_type": "code",
   "execution_count": null,
   "metadata": {},
   "outputs": [],
   "source": [
    "object_cols = ['Группа продукции', 'Технические регламенты']\n",
    "object_cols_target = ['Группа продукции_ordinal', 'Технические регламенты_ordinal'\t] # В такую колонку положим результат простой нумерации\n",
    "all_data_in[object_cols]\n"
   ]
  },
  {
   "cell_type": "markdown",
   "metadata": {},
   "source": [
    "Посмотрим, сколько есть различных категорий"
   ]
  },
  {
   "cell_type": "code",
   "execution_count": null,
   "metadata": {},
   "outputs": [],
   "source": [
    "for col in object_cols:\n",
    "    count = len(all_data_in[col].value_counts())\n",
    "    print(f\"{col} : {count}\")"
   ]
  },
  {
   "cell_type": "markdown",
   "metadata": {},
   "source": [
    "Ordinal encoder. Нумеруем категории. \n"
   ]
  },
  {
   "cell_type": "code",
   "execution_count": null,
   "metadata": {},
   "outputs": [],
   "source": [
    "from sklearn.preprocessing import OrdinalEncoder\n",
    "ordinal_encoder = OrdinalEncoder()\n",
    "data_copy = all_data_in.copy()\n",
    "all_data_in[object_cols_target] = ordinal_encoder.fit_transform(data_copy[object_cols])\n",
    "all_data_in[object_cols + object_cols_target].head(10)"
   ]
  },
  {
   "cell_type": "markdown",
   "metadata": {},
   "source": [
    "OneHotEncoder. Проставляем каждой группе, соотвествтвует ли ей категория. Есть сомнения, что это вообще нужно, но попробуем.\n"
   ]
  },
  {
   "cell_type": "code",
   "execution_count": null,
   "metadata": {},
   "outputs": [],
   "source": [
    "from sklearn.preprocessing import OneHotEncoder\n",
    "\n",
    "# object_cols = ['Группа продукции', 'Технические регламенты']\n",
    "object_cols = ['Группа продукции']\n",
    "# Apply one-hot encoder to each column with categorical data\n",
    "data_copy = all_data_in[object_cols]\n",
    "OH_encoder = OneHotEncoder(handle_unknown='ignore', sparse=False) # можно преобразовать вид, убрав sparse=False. Будет одна колонка. \n",
    "OH_cols = pd.DataFrame(OH_encoder.fit_transform(data_copy))\n",
    "print(col)\n",
    "OH_cols.head(5)\n",
    "col_names = [ f\"{col}_{oh_col}\" for oh_col in OH_cols.columns]\n",
    "all_data_in[col_names] = OH_cols"
   ]
  },
  {
   "cell_type": "markdown",
   "metadata": {},
   "source": [
    "Теперь код ТН ВЭД и регламенты. Опишем в виде функции преобразование, затем применим к каждой колонке"
   ]
  },
  {
   "cell_type": "code",
   "execution_count": null,
   "metadata": {},
   "outputs": [],
   "source": [
    "object_cols = ['Коды ТН ВЭД ЕАЭС', ]\n",
    "all_data_in[object_cols]"
   ]
  },
  {
   "cell_type": "markdown",
   "metadata": {},
   "source": [
    "Nan - это пустые строчки, где не заданы значения. Заменим на \"Not presented\". "
   ]
  },
  {
   "cell_type": "code",
   "execution_count": null,
   "metadata": {},
   "outputs": [],
   "source": [
    "all_data_in[object_cols] = all_data_in[object_cols].fillna(\"Not presented\") # почему-то inplace не работает\n",
    "all_data_in[object_cols].tail(5) #там были NaN\n"
   ]
  },
  {
   "cell_type": "code",
   "execution_count": null,
   "metadata": {},
   "outputs": [],
   "source": [
    "def make_categorical_data_numeric(df, cols, delim=\";\"):\n",
    "    for col in cols:\n",
    "        df_col = df[col]\n",
    "        group = set()\n",
    "        for el in df_col:\n",
    "            groups_in_el = el.split(delim)\n",
    "            for gr in groups_in_el:\n",
    "                group.add(gr)\n",
    "        new_cols = pd.DataFrame(columns=list(group))\n",
    "        for el in df_col:\n",
    "            row = [1 if col in el else 0 for col in group]\n",
    "            new_cols.loc[len(new_cols)] = row\n",
    "        df[list(group)] = new_cols\n",
    "    return df\n",
    "\n",
    "changed_data = make_categorical_data_numeric(all_data_in[object_cols], object_cols, \";\") \n",
    "changed_data.head(10)\n",
    "        "
   ]
  },
  {
   "cell_type": "code",
   "execution_count": null,
   "metadata": {},
   "outputs": [],
   "source": [
    "all_data_in[object_cols].to_string()\n",
    "all_data_in[object_cols].head(5)\n"
   ]
  }
 ],
 "metadata": {
  "kernelspec": {
   "display_name": "Python 3.9.5 64-bit",
   "language": "python",
   "name": "python3"
  },
  "language_info": {
   "codemirror_mode": {
    "name": "ipython",
    "version": 3
   },
   "file_extension": ".py",
   "mimetype": "text/x-python",
   "name": "python",
   "nbconvert_exporter": "python",
   "pygments_lexer": "ipython3",
   "version": "3.9.5"
  },
  "orig_nbformat": 4,
  "vscode": {
   "interpreter": {
    "hash": "11938c6bc6919ae2720b4d5011047913343b08a43b18698fd82dedb0d4417594"
   }
  }
 },
 "nbformat": 4,
 "nbformat_minor": 2
}
