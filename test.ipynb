{
 "cells": [
  {
   "cell_type": "code",
   "execution_count": 1,
   "metadata": {},
   "outputs": [],
   "source": [
    "import pandas as pd\n",
    "import pymorphy2\n",
    "import nltk\n",
    "import re\n",
    "\n",
    "from sklearn.cluster import MiniBatchKMeans\n",
    "from sklearn.feature_extraction.text import TfidfVectorizer, CountVectorizer\n",
    "from nltk.corpus import stopwords\n",
    "from nltk.tokenize import sent_tokenize\n",
    "from nltk.tokenize import word_tokenize\n",
    "from nltk import FreqDist\n",
    "import numpy as np\n",
    "import matplotlib.pyplot as plt\n",
    "from collections import Counter\n",
    "import datetime\n",
    "from multiprocessing import Pool\n",
    "from tqdm import tqdm_notebook as tqdm\n",
    "from gensim.models import *\n",
    "from gensim import corpora\n",
    "from threading import Thread\n",
    "from time import sleep\n",
    "\n",
    "dir_hackathon = '.'\n",
    "dir_data_in = f'{dir_hackathon}/Data/In'\n",
    "dir_data_out = f'{dir_hackathon}/Data/Out'\n",
    "\n"
   ]
  },
  {
   "cell_type": "markdown",
   "metadata": {},
   "source": [
    "Подготовка\n"
   ]
  },
  {
   "cell_type": "markdown",
   "metadata": {},
   "source": [
    "Тесты"
   ]
  },
  {
   "cell_type": "code",
   "execution_count": 2,
   "metadata": {},
   "outputs": [
    {
     "name": "stderr",
     "output_type": "stream",
     "text": [
      "[nltk_data] Downloading package stopwords to\n",
      "[nltk_data]     C:\\Users\\Rexarrior\\AppData\\Roaming\\nltk_data...\n",
      "[nltk_data]   Package stopwords is already up-to-date!\n",
      "[nltk_data] Downloading package punkt to\n",
      "[nltk_data]     C:\\Users\\Rexarrior\\AppData\\Roaming\\nltk_data...\n",
      "[nltk_data]   Package punkt is already up-to-date!\n"
     ]
    }
   ],
   "source": [
    "nltk.download('stopwords')\n",
    "nltk.download('punkt')\n",
    "\n",
    "stop_words = nltk.corpus.stopwords.words(\"russian\")\n",
    "\n",
    "\n",
    "def lemmatize(text_in):\n",
    "    lemma = pymorphy2.MorphAnalyzer()\n",
    "    text = \" \".join([lemma.parse(word)[0].normal_form for word in text_in.split(' ')])\n",
    "    tokens = word_tokenize(text, language=\"russian\")\n",
    "    for token in tokens:\n",
    "        if token in stop_words:\n",
    "            tokens.remove(token)\n",
    "    text = \" \".join(tokens)\n",
    "    return text\n",
    "\n",
    "\n",
    "def get_metrics(product_name, claster_words_precomputed, clasters_common_words, count_clasters): # Брать 2 вариант\n",
    "  product_name = lemmatize(product_name)\n",
    "  product_name_words = product_name.split(' ')\n",
    "  list_name_words = pd.unique(product_name_words)\n",
    "\n",
    "  list_k = []\n",
    "  for id_claster in range(count_clasters): # Внутри кластера суммировать или умножать - подумать    \n",
    "    # print(range(count_clasters))\n",
    "    claster_words = claster_words_precomputed[id_claster]['claster_words']\n",
    "    claster_count_words = claster_words_precomputed[id_claster]['claster_count_words']\n",
    "    claster_len = clasters_common_words.iloc[id_claster]['Общее количество слов'] # !!!\n",
    "    # Tfidf - поискать наименование метрики - ??? \n",
    "\n",
    "    # print(f'Claster id: {str(id_claster)}')\n",
    "    k = 0\n",
    "    for word in list_name_words:  \n",
    "      word_name_count = product_name_words.count(word)\n",
    "\n",
    "      if word in claster_words:\n",
    "        id_word = claster_words.index(word) \n",
    "        word_claster_count = claster_count_words[id_word] # !!!\n",
    "\n",
    "        k += word_claster_count / (claster_len * len(list_name_words) / len(claster_words)) # !!!!! Подумать, как правильно !!!\n",
    "        \n",
    "    list_k.append(k)\n",
    "\n",
    "  return list_k"
   ]
  },
  {
   "cell_type": "code",
   "execution_count": 3,
   "metadata": {},
   "outputs": [
    {
     "data": {
      "text/html": [
       "<div>\n",
       "<style scoped>\n",
       "    .dataframe tbody tr th:only-of-type {\n",
       "        vertical-align: middle;\n",
       "    }\n",
       "\n",
       "    .dataframe tbody tr th {\n",
       "        vertical-align: top;\n",
       "    }\n",
       "\n",
       "    .dataframe thead th {\n",
       "        text-align: right;\n",
       "    }\n",
       "</style>\n",
       "<table border=\"1\" class=\"dataframe\">\n",
       "  <thead>\n",
       "    <tr style=\"text-align: right;\">\n",
       "      <th></th>\n",
       "      <th>Группа продукции_ordinal</th>\n",
       "      <th>0</th>\n",
       "    </tr>\n",
       "  </thead>\n",
       "  <tbody>\n",
       "    <tr>\n",
       "      <th>0</th>\n",
       "      <td>0</td>\n",
       "      <td>([('nan', 2778), ('изделие', 26), ('предназнач...</td>\n",
       "    </tr>\n",
       "    <tr>\n",
       "      <th>1</th>\n",
       "      <td>1</td>\n",
       "      <td>([('автоматический', 2), ('установка', 2), ('ж...</td>\n",
       "    </tr>\n",
       "    <tr>\n",
       "      <th>2</th>\n",
       "      <td>2</td>\n",
       "      <td>([('автоматический', 26), ('устройство', 26), ...</td>\n",
       "    </tr>\n",
       "    <tr>\n",
       "      <th>3</th>\n",
       "      <td>3</td>\n",
       "      <td>([('автоматический', 3), ('устройство', 3), ('...</td>\n",
       "    </tr>\n",
       "    <tr>\n",
       "      <th>4</th>\n",
       "      <td>4</td>\n",
       "      <td>([('автопогрузчик', 6), ('багажник', 1), ('авт...</td>\n",
       "    </tr>\n",
       "  </tbody>\n",
       "</table>\n",
       "</div>"
      ],
      "text/plain": [
       "   Группа продукции_ordinal                                                  0\n",
       "0                         0  ([('nan', 2778), ('изделие', 26), ('предназнач...\n",
       "1                         1  ([('автоматический', 2), ('установка', 2), ('ж...\n",
       "2                         2  ([('автоматический', 26), ('устройство', 26), ...\n",
       "3                         3  ([('автоматический', 3), ('устройство', 3), ('...\n",
       "4                         4  ([('автопогрузчик', 6), ('багажник', 1), ('авт..."
      ]
     },
     "execution_count": 3,
     "metadata": {},
     "output_type": "execute_result"
    }
   ],
   "source": [
    "import json\n",
    "with open(f'{dir_data_out}/data_to_str_vectors.json', \"rt\", encoding=\"utf8\") as f:\n",
    "    json_str = f.read()\n",
    "claster_words_precomputed = json.loads(json_str)\n",
    "pd_clasters_common_words = pd.read_excel(f'{dir_data_out}/clasters_common_words.xlsx')\n",
    "pd_clasters_common_words.head()\n"
   ]
  },
  {
   "cell_type": "code",
   "execution_count": 4,
   "metadata": {},
   "outputs": [
    {
     "name": "stdout",
     "output_type": "stream",
     "text": [
      "   Unnamed: 0                                   Группа продукции  \\\n",
      "0       56825  Автоматические установки жидкостного и пенного...   \n",
      "1          28  Автоматические устройства управления бытовыми ...   \n",
      "2       21178  Автоматические устройства управления бытовыми ...   \n",
      "3       27932                                     Автопогрузчики   \n",
      "4       20374  Адаптивные системы переднего освещения; Жгуты ...   \n",
      "\n",
      "   Группа продукции_ordinal  \n",
      "0                       0.0  \n",
      "1                       1.0  \n",
      "2                       2.0  \n",
      "3                       3.0  \n",
      "4                       4.0  \n"
     ]
    }
   ],
   "source": [
    "\n",
    "product_names = pd.read_excel(f'{dir_data_in}/product_group_names.xlsx')\n",
    "print(product_names.head(5))\n",
    "count_clasters = 2067\n",
    "product_names_dict = {}\n",
    "product_names_dict_re = {}\n",
    "for i in range(product_names.shape[0]):\n",
    "    product_names_dict[product_names.iloc[i]['Группа продукции_ordinal']] = product_names.iloc[i]['Группа продукции'] \n",
    "    product_names_dict_re[product_names.iloc[i]['Группа продукции'] ] = product_names.iloc[i]['Группа продукции_ordinal']"
   ]
  },
  {
   "cell_type": "code",
   "execution_count": 5,
   "metadata": {},
   "outputs": [],
   "source": [
    "data_clasters_common_words = pd.read_excel(f'{dir_data_out}/data_clasters_common_words.xlsx')"
   ]
  },
  {
   "cell_type": "code",
   "execution_count": 6,
   "metadata": {},
   "outputs": [
    {
     "name": "stdout",
     "output_type": "stream",
     "text": [
      "['тест1', 'тест2']\n"
     ]
    }
   ],
   "source": [
    "\n",
    "xl = pd.ExcelFile(f'{dir_data_in}/Аполлон_Тесты.xlsx')\n",
    "\n",
    "print(xl.sheet_names)  # see all sheet names\n"
   ]
  },
  {
   "cell_type": "markdown",
   "metadata": {},
   "source": [
    "Task 1"
   ]
  },
  {
   "cell_type": "code",
   "execution_count": 7,
   "metadata": {},
   "outputs": [
    {
     "ename": "NameError",
     "evalue": "name 'test_dataset' is not defined",
     "output_type": "error",
     "traceback": [
      "\u001b[1;31m---------------------------------------------------------------------------\u001b[0m",
      "\u001b[1;31mNameError\u001b[0m                                 Traceback (most recent call last)",
      "\u001b[1;32mc:\\Users\\Rexarrior\\Desktop\\хакатон\\SiberiaAppolo\\test.ipynb Ячейка 10\u001b[0m in \u001b[0;36m<cell line: 3>\u001b[1;34m()\u001b[0m\n\u001b[0;32m      <a href='vscode-notebook-cell:/c%3A/Users/Rexarrior/Desktop/%D1%85%D0%B0%D0%BA%D0%B0%D1%82%D0%BE%D0%BD/SiberiaAppolo/test.ipynb#ch0000009?line=0'>1</a>\u001b[0m count \u001b[39m=\u001b[39m \u001b[39m0\u001b[39m\n\u001b[0;32m      <a href='vscode-notebook-cell:/c%3A/Users/Rexarrior/Desktop/%D1%85%D0%B0%D0%BA%D0%B0%D1%82%D0%BE%D0%BD/SiberiaAppolo/test.ipynb#ch0000009?line=1'>2</a>\u001b[0m tru_count \u001b[39m=\u001b[39m \u001b[39m0\u001b[39m\n\u001b[1;32m----> <a href='vscode-notebook-cell:/c%3A/Users/Rexarrior/Desktop/%D1%85%D0%B0%D0%BA%D0%B0%D1%82%D0%BE%D0%BD/SiberiaAppolo/test.ipynb#ch0000009?line=2'>3</a>\u001b[0m \u001b[39mfor\u001b[39;00m i \u001b[39min\u001b[39;00m \u001b[39mrange\u001b[39m(test_dataset\u001b[39m.\u001b[39mshape[\u001b[39m0\u001b[39m]):\n\u001b[0;32m      <a href='vscode-notebook-cell:/c%3A/Users/Rexarrior/Desktop/%D1%85%D0%B0%D0%BA%D0%B0%D1%82%D0%BE%D0%BD/SiberiaAppolo/test.ipynb#ch0000009?line=3'>4</a>\u001b[0m     \u001b[39mprint\u001b[39m(\u001b[39mf\u001b[39m\u001b[39m\"\u001b[39m\u001b[39mprocess \u001b[39m\u001b[39m{\u001b[39;00mi\u001b[39m}\u001b[39;00m\u001b[39m row\u001b[39m\u001b[39m\"\u001b[39m)\n\u001b[0;32m      <a href='vscode-notebook-cell:/c%3A/Users/Rexarrior/Desktop/%D1%85%D0%B0%D0%BA%D0%B0%D1%82%D0%BE%D0%BD/SiberiaAppolo/test.ipynb#ch0000009?line=4'>5</a>\u001b[0m     row \u001b[39m=\u001b[39m test_dataset\u001b[39m.\u001b[39miloc[i]\n",
      "\u001b[1;31mNameError\u001b[0m: name 'test_dataset' is not defined"
     ]
    }
   ],
   "source": [
    "count = 0\n",
    "tru_count = 0\n",
    "for i in range(test_dataset.shape[0]):\n",
    "    print(f\"process {i} row\")\n",
    "    row = test_dataset.iloc[i]\n",
    "    list_k = get_metrics(row['Общее наименование продукции'], claster_words_precomputed,  data_clasters_common_words, count_clasters)\n",
    "    # max_coef = np.max(list_k)\n",
    "    # choosen_cluster  = list_k.index(max_coef)\n",
    "    # choosen_cluster_name =  product_names_dict[choosen_cluster]\n",
    "    mean_coef = np.mean(list_k)\n",
    "    curr_group_name = row['Группа продукции']\n",
    "    if (curr_group_name in product_names_dict_re):\n",
    "        curr_ind = int(product_names_dict_re[curr_group_name])\n",
    "        curr_coef = list_k[curr_ind]\n",
    "        result = curr_coef < mean_coef\n",
    "        row['Наличие ошибки'] = result\n",
    "        tru_count += 1 if result else 0\n",
    "    else:\n",
    "        row['Наличие ошибки'] = True\n",
    "        count += 1\n",
    "    test_dataset.iloc[i] = row\n",
    "\n",
    "print(test_dataset['Наличие ошибки'])\n",
    "print(f'Неизвестных строк {count}')\n",
    "tru_count += count\n",
    "print(tru_count)"
   ]
  },
  {
   "cell_type": "code",
   "execution_count": null,
   "metadata": {},
   "outputs": [],
   "source": [
    "test_dataset.to_excel(f'{dir_data_out}/test1.xlsx')"
   ]
  },
  {
   "cell_type": "markdown",
   "metadata": {},
   "source": [
    "Task 2"
   ]
  },
  {
   "cell_type": "code",
   "execution_count": null,
   "metadata": {},
   "outputs": [],
   "source": []
  },
  {
   "cell_type": "code",
   "execution_count": null,
   "metadata": {},
   "outputs": [],
   "source": []
  }
 ],
 "metadata": {
  "kernelspec": {
   "display_name": "Python 3.9.5 64-bit",
   "language": "python",
   "name": "python3"
  },
  "language_info": {
   "codemirror_mode": {
    "name": "ipython",
    "version": 3
   },
   "file_extension": ".py",
   "mimetype": "text/x-python",
   "name": "python",
   "nbconvert_exporter": "python",
   "pygments_lexer": "ipython3",
   "version": "3.9.5"
  },
  "orig_nbformat": 4,
  "vscode": {
   "interpreter": {
    "hash": "11938c6bc6919ae2720b4d5011047913343b08a43b18698fd82dedb0d4417594"
   }
  }
 },
 "nbformat": 4,
 "nbformat_minor": 2
}
